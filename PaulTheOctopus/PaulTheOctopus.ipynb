{
  "nbformat": 4,
  "nbformat_minor": 0,
  "metadata": {
    "colab": {
      "name": "PaulTheOctopus.ipynb",
      "provenance": [],
      "collapsed_sections": []
    },
    "kernelspec": {
      "name": "python3",
      "display_name": "Python 3"
    },
    "accelerator": "GPU"
  },
  "cells": [
    {
      "cell_type": "markdown",
      "metadata": {
        "id": "hn7kqcfu7dqB",
        "colab_type": "text"
      },
      "source": [
        "# Paul The Octopus\n",
        "\n",
        "This notebook uses the [ramnquintana Football results dataset](https://www.kaggle.com/ramnquintana/resultados-de-futbol-entre-1872-y-2017).\n",
        "\n",
        "## Goals\n",
        "\n",
        "- Analize the historic football results between 1872 and 2017 for different championships and friendly games.\n",
        "- Train with XGBoost to predict **local** and **away** scores depending on nominal values."
      ]
    },
    {
      "cell_type": "code",
      "metadata": {
        "id": "1h8DUvGi9SCQ",
        "colab_type": "code",
        "colab": {
          "base_uri": "https://localhost:8080/",
          "height": 51
        },
        "outputId": "4528250b-317e-4f17-8831-8a2ca5a6ab04"
      },
      "source": [
        "import pandas as pd\n",
        "import numpy as np\n",
        "import scipy as sp\n",
        "import matplotlib.pyplot as plt\n",
        "import seaborn as sns\n",
        "import pickle\n",
        "\n",
        "from sklearn.pipeline import Pipeline\n",
        "from sklearn.model_selection import train_test_split, GridSearchCV\n",
        "from sklearn.preprocessing import OneHotEncoder\n",
        "from sklearn.multioutput import MultiOutputRegressor\n",
        "from sklearn.metrics import accuracy_score, mean_squared_error, r2_score\n",
        "\n",
        "import xgboost as xgb\n",
        "\n",
        "\n",
        "sns.set(style=\"darkgrid\")"
      ],
      "execution_count": 1,
      "outputs": [
        {
          "output_type": "stream",
          "text": [
            "/usr/local/lib/python3.6/dist-packages/statsmodels/tools/_testing.py:19: FutureWarning: pandas.util.testing is deprecated. Use the functions in the public API at pandas.testing instead.\n",
            "  import pandas.util.testing as tm\n"
          ],
          "name": "stderr"
        }
      ]
    },
    {
      "cell_type": "markdown",
      "metadata": {
        "id": "fqmwGGm_9Uh3",
        "colab_type": "text"
      },
      "source": [
        "### Download [dataset](https://www.kaggle.com/ramnquintana/resultados-de-futbol-entre-1872-y-2017)"
      ]
    },
    {
      "cell_type": "code",
      "metadata": {
        "id": "08u2NizR7Rsm",
        "colab_type": "code",
        "colab": {}
      },
      "source": [
        "%%capture\n",
        "import os\n",
        "\n",
        "if not os.path.isdir('resultados-futbol'):\n",
        "    os.environ['KAGGLE_CONFIG_DIR'] = '/content/.kaggle'\n",
        "    !mkdir .kaggle\n",
        "    !mv kaggle.json .kaggle\n",
        "    !chmod 600 .kaggle/kaggle.json\n",
        "    !kaggle datasets download -d ramnquintana/resultados-de-futbol-entre-1872-y-2017\n",
        "    !mkdir resultados-futbol\n",
        "    !unzip resultados-de-futbol-entre-1872-y-2017.zip -d resultados-futbol"
      ],
      "execution_count": 2,
      "outputs": []
    },
    {
      "cell_type": "markdown",
      "metadata": {
        "id": "7KLDm6e4-jrZ",
        "colab_type": "text"
      },
      "source": [
        "## Data Visualization\n",
        "\n",
        "The first goal is to understand the data that this dataset contains."
      ]
    },
    {
      "cell_type": "code",
      "metadata": {
        "id": "Dh9i7-ua9rpX",
        "colab_type": "code",
        "colab": {
          "base_uri": "https://localhost:8080/",
          "height": 204
        },
        "outputId": "5baeec95-d3aa-4962-bfa1-55cede7a9540"
      },
      "source": [
        "df = pd.read_csv('resultados-futbol/results.csv')\n",
        "df.sample(5)"
      ],
      "execution_count": 3,
      "outputs": [
        {
          "output_type": "execute_result",
          "data": {
            "text/html": [
              "<div>\n",
              "<style scoped>\n",
              "    .dataframe tbody tr th:only-of-type {\n",
              "        vertical-align: middle;\n",
              "    }\n",
              "\n",
              "    .dataframe tbody tr th {\n",
              "        vertical-align: top;\n",
              "    }\n",
              "\n",
              "    .dataframe thead th {\n",
              "        text-align: right;\n",
              "    }\n",
              "</style>\n",
              "<table border=\"1\" class=\"dataframe\">\n",
              "  <thead>\n",
              "    <tr style=\"text-align: right;\">\n",
              "      <th></th>\n",
              "      <th>date</th>\n",
              "      <th>home_team</th>\n",
              "      <th>away_team</th>\n",
              "      <th>home_score</th>\n",
              "      <th>away_score</th>\n",
              "      <th>tournament</th>\n",
              "      <th>city</th>\n",
              "      <th>country</th>\n",
              "      <th>neutral</th>\n",
              "    </tr>\n",
              "  </thead>\n",
              "  <tbody>\n",
              "    <tr>\n",
              "      <th>21672</th>\n",
              "      <td>1998-11-18</td>\n",
              "      <td>Portugal</td>\n",
              "      <td>Israel</td>\n",
              "      <td>2</td>\n",
              "      <td>0</td>\n",
              "      <td>Friendly</td>\n",
              "      <td>Setúbal</td>\n",
              "      <td>Portugal</td>\n",
              "      <td>False</td>\n",
              "    </tr>\n",
              "    <tr>\n",
              "      <th>39735</th>\n",
              "      <td>2018-05-31</td>\n",
              "      <td>Barawa</td>\n",
              "      <td>Tamil Eelam</td>\n",
              "      <td>4</td>\n",
              "      <td>0</td>\n",
              "      <td>CONIFA World Football Cup</td>\n",
              "      <td>Bromley</td>\n",
              "      <td>England</td>\n",
              "      <td>False</td>\n",
              "    </tr>\n",
              "    <tr>\n",
              "      <th>31020</th>\n",
              "      <td>2009-02-01</td>\n",
              "      <td>Costa Rica</td>\n",
              "      <td>Panama</td>\n",
              "      <td>0</td>\n",
              "      <td>0</td>\n",
              "      <td>UNCAF Cup</td>\n",
              "      <td>Tegucigalpa</td>\n",
              "      <td>Honduras</td>\n",
              "      <td>True</td>\n",
              "    </tr>\n",
              "    <tr>\n",
              "      <th>14853</th>\n",
              "      <td>1988-03-26</td>\n",
              "      <td>Belgium</td>\n",
              "      <td>Hungary</td>\n",
              "      <td>3</td>\n",
              "      <td>0</td>\n",
              "      <td>Friendly</td>\n",
              "      <td>Brussels</td>\n",
              "      <td>Belgium</td>\n",
              "      <td>False</td>\n",
              "    </tr>\n",
              "    <tr>\n",
              "      <th>40442</th>\n",
              "      <td>2019-01-20</td>\n",
              "      <td>Jordan</td>\n",
              "      <td>Vietnam</td>\n",
              "      <td>1</td>\n",
              "      <td>1</td>\n",
              "      <td>AFC Asian Cup</td>\n",
              "      <td>Dubai</td>\n",
              "      <td>United Arab Emirates</td>\n",
              "      <td>True</td>\n",
              "    </tr>\n",
              "  </tbody>\n",
              "</table>\n",
              "</div>"
            ],
            "text/plain": [
              "             date   home_team  ...               country  neutral\n",
              "21672  1998-11-18    Portugal  ...              Portugal    False\n",
              "39735  2018-05-31      Barawa  ...               England    False\n",
              "31020  2009-02-01  Costa Rica  ...              Honduras     True\n",
              "14853  1988-03-26     Belgium  ...               Belgium    False\n",
              "40442  2019-01-20      Jordan  ...  United Arab Emirates     True\n",
              "\n",
              "[5 rows x 9 columns]"
            ]
          },
          "metadata": {
            "tags": []
          },
          "execution_count": 3
        }
      ]
    },
    {
      "cell_type": "code",
      "metadata": {
        "id": "n4x3bxu3kOZH",
        "colab_type": "code",
        "colab": {}
      },
      "source": [
        "# remove unused date\n",
        "df = df.drop(['date'], axis=1)"
      ],
      "execution_count": 4,
      "outputs": []
    },
    {
      "cell_type": "markdown",
      "metadata": {
        "id": "LU4YoHHlTUUP",
        "colab_type": "text"
      },
      "source": [
        "As we can see, the dataset contains mostly nominal values (home_team, away_team, tournament, city, country), the ordinal values we are going to be analyzing are the **home** and **away** scores. These are the values we are trying to predict and it would be nice to understand their distribution and correlation.\n",
        "\n",
        "We'll start by showing a boxplot to understand the general distribution and check for outliers."
      ]
    },
    {
      "cell_type": "code",
      "metadata": {
        "id": "W7b1jzJUNyLG",
        "colab_type": "code",
        "colab": {
          "base_uri": "https://localhost:8080/",
          "height": 285
        },
        "outputId": "6e2f3336-7091-473e-841b-30f84f548359"
      },
      "source": [
        "sns.boxplot(data=df.drop('neutral', axis=1), orient='h')"
      ],
      "execution_count": 5,
      "outputs": [
        {
          "output_type": "execute_result",
          "data": {
            "text/plain": [
              "<matplotlib.axes._subplots.AxesSubplot at 0x7f427e3d5240>"
            ]
          },
          "metadata": {
            "tags": []
          },
          "execution_count": 5
        },
        {
          "output_type": "display_data",
          "data": {
            "image/png": "[encoded data removed]",
            "text/plain": [
              "<Figure size 432x288 with 1 Axes>"
            ]
          },
          "metadata": {
            "tags": [],
            "needs_background": "light"
          }
        }
      ]
    },
    {
      "cell_type": "markdown",
      "metadata": {
        "id": "NV3fijBKUVlP",
        "colab_type": "text"
      },
      "source": [
        "As can be seen, the **home score** tends to have higher values, while also having higher outliers. The **local score** tends to be lower but has more consistent values."
      ]
    },
    {
      "cell_type": "code",
      "metadata": {
        "id": "htK8Z1_kuzjy",
        "colab_type": "code",
        "colab": {
          "base_uri": "https://localhost:8080/",
          "height": 596
        },
        "outputId": "cb96c731-91a6-495d-c5dd-3ff46ee49fb0"
      },
      "source": [
        "sns.pairplot(data=df, hue='neutral').fig.set(figwidth=10, figheight=8)"
      ],
      "execution_count": 6,
      "outputs": [
        {
          "output_type": "execute_result",
          "data": {
            "text/plain": [
              "[None, None]"
            ]
          },
          "metadata": {
            "tags": []
          },
          "execution_count": 6
        },
        {
          "output_type": "display_data",
          "data": {
            "image/png": "[encoded data removed]",
            "text/plain": [
              "<Figure size 720x576 with 6 Axes>"
            ]
          },
          "metadata": {
            "tags": [],
            "needs_background": "light"
          }
        }
      ]
    },
    {
      "cell_type": "markdown",
      "metadata": {
        "id": "7yQurCXNUkFo",
        "colab_type": "text"
      },
      "source": [
        "This pair plot allows us to understand the correlation between the scores and the **neutral** property. As can be seen in the these plots, the matches with higher **away scores** tend to be neutral, while the matches with higher **home score** tend to be less neutral."
      ]
    },
    {
      "cell_type": "code",
      "metadata": {
        "id": "NL_Six6_wi-K",
        "colab_type": "code",
        "colab": {
          "base_uri": "https://localhost:8080/",
          "height": 305
        },
        "outputId": "90ea9f1a-4789-4a23-c8f4-bfa1e5bd1a11"
      },
      "source": [
        "sns.distplot(df['home_score'], kde=False, label='home score')\n",
        "sns.distplot(df['away_score'], kde=False, label='away score')\n",
        "plt.legend()"
      ],
      "execution_count": 7,
      "outputs": [
        {
          "output_type": "execute_result",
          "data": {
            "text/plain": [
              "<matplotlib.legend.Legend at 0x7f427de51390>"
            ]
          },
          "metadata": {
            "tags": []
          },
          "execution_count": 7
        },
        {
          "output_type": "display_data",
          "data": {
            "image/png": "[encoded data removed]",
            "text/plain": [
              "<Figure size 432x288 with 1 Axes>"
            ]
          },
          "metadata": {
            "tags": [],
            "needs_background": "light"
          }
        }
      ]
    },
    {
      "cell_type": "markdown",
      "metadata": {
        "id": "jR24yl_dVky0",
        "colab_type": "text"
      },
      "source": [
        "To understand the distribution of the scores, depending on wether it is a **local** or **away** score, we can take a look at this plot. It can be easily seen that most of the matches had lower scores for the **away** team. There are more matches with higher scores for the **home** team."
      ]
    },
    {
      "cell_type": "markdown",
      "metadata": {
        "id": "GuvJ4IT865uI",
        "colab_type": "text"
      },
      "source": [
        "## Prepare data to fit pipeline\n",
        "\n",
        "As seen in the box-plot, our dataset contains many outliers for both the **local** and **away** scores. We need to remove these outliers before processing our dataset.\n",
        "\n",
        "We'll use the Z Score (how many Standard Deviations we have between values) to remove these."
      ]
    },
    {
      "cell_type": "code",
      "metadata": {
        "id": "_MLsZNiDZZOd",
        "colab_type": "code",
        "colab": {
          "base_uri": "https://localhost:8080/",
          "height": 51
        },
        "outputId": "dcaeaeb3-6937-4dfa-9d8e-822ff9bf31f4"
      },
      "source": [
        "print(len(df))\n",
        "\n",
        "df_oldf = df.copy()\n",
        "\n",
        "df = df[((df.home_score - df.home_score.mean()) / df.home_score.std()).abs() < 3]\n",
        "df = df[((df.away_score - df.away_score.mean()) / df.away_score.std()).abs() < 3]\n",
        "\n",
        "print(len(df))"
      ],
      "execution_count": 8,
      "outputs": [
        {
          "output_type": "stream",
          "text": [
            "41243\n",
            "39836\n"
          ],
          "name": "stdout"
        }
      ]
    },
    {
      "cell_type": "markdown",
      "metadata": {
        "id": "kIjfYJIlHVN9",
        "colab_type": "text"
      },
      "source": [
        "We can take a look into our boxplot to check the changes:"
      ]
    },
    {
      "cell_type": "code",
      "metadata": {
        "id": "y1le2TuMGyJx",
        "colab_type": "code",
        "colab": {
          "base_uri": "https://localhost:8080/",
          "height": 285
        },
        "outputId": "69833b37-0131-476a-e699-44a870e186ce"
      },
      "source": [
        "sns.boxplot(data=df.drop('neutral', axis=1), orient='h')"
      ],
      "execution_count": 9,
      "outputs": [
        {
          "output_type": "execute_result",
          "data": {
            "text/plain": [
              "<matplotlib.axes._subplots.AxesSubplot at 0x7f427b4d7cf8>"
            ]
          },
          "metadata": {
            "tags": []
          },
          "execution_count": 9
        },
        {
          "output_type": "display_data",
          "data": {
            "image/png": "[encoded data removed]",
            "text/plain": [
              "<Figure size 432x288 with 1 Axes>"
            ]
          },
          "metadata": {
            "tags": [],
            "needs_background": "light"
          }
        }
      ]
    },
    {
      "cell_type": "markdown",
      "metadata": {
        "id": "al36ZgmxZZy7",
        "colab_type": "text"
      },
      "source": [
        "As mentioned before, our model needs to predict *scores*, an **ordinal value**, based on *teams, cities, tournaments* which are **nominal values**. The nominal values need to be encoded before being fed to our model, we'll use One Hot Encoding.\n",
        "\n",
        "We'll start by converting our data to numpy, using the **X, y** format."
      ]
    },
    {
      "cell_type": "code",
      "metadata": {
        "id": "7AL3k0sZICpY",
        "colab_type": "code",
        "colab": {
          "base_uri": "https://localhost:8080/",
          "height": 34
        },
        "outputId": "45e9293f-7aa7-4039-8f98-dfbd843d5292"
      },
      "source": [
        "X = df[['home_team', 'away_team', 'tournament', 'city', 'neutral']].to_numpy()\n",
        "y = df[['home_score', 'away_score']].to_numpy()\n",
        "\n",
        "X.shape, y.shape"
      ],
      "execution_count": 10,
      "outputs": [
        {
          "output_type": "execute_result",
          "data": {
            "text/plain": [
              "((39836, 5), (39836, 2))"
            ]
          },
          "metadata": {
            "tags": []
          },
          "execution_count": 10
        }
      ]
    },
    {
      "cell_type": "markdown",
      "metadata": {
        "id": "LsxxgoD8iO7r",
        "colab_type": "text"
      },
      "source": [
        "Compare the first row of our ndarray with the first dataframe row."
      ]
    },
    {
      "cell_type": "code",
      "metadata": {
        "id": "v2Tho6Ywk-8t",
        "colab_type": "code",
        "colab": {
          "base_uri": "https://localhost:8080/",
          "height": 204
        },
        "outputId": "9f86ebbd-7fb2-41a1-9709-e49874c72352"
      },
      "source": [
        "X[0], y[0], df.loc[0]"
      ],
      "execution_count": 11,
      "outputs": [
        {
          "output_type": "execute_result",
          "data": {
            "text/plain": [
              "(array(['Scotland', 'England', 'Friendly', 'Glasgow', False], dtype=object),\n",
              " array([0, 0]),\n",
              " home_team     Scotland\n",
              " away_team      England\n",
              " home_score           0\n",
              " away_score           0\n",
              " tournament    Friendly\n",
              " city           Glasgow\n",
              " country       Scotland\n",
              " neutral          False\n",
              " Name: 0, dtype: object)"
            ]
          },
          "metadata": {
            "tags": []
          },
          "execution_count": 11
        }
      ]
    },
    {
      "cell_type": "markdown",
      "metadata": {
        "id": "cS--A6ZD-sV9",
        "colab_type": "text"
      },
      "source": [
        "## Regressor fit"
      ]
    },
    {
      "cell_type": "markdown",
      "metadata": {
        "id": "sayFvAmx-xig",
        "colab_type": "text"
      },
      "source": [
        "We'll start by taking the unique values on the full dataset to feed the One Hot Encoding."
      ]
    },
    {
      "cell_type": "code",
      "metadata": {
        "id": "8SE0-lAbklWK",
        "colab_type": "code",
        "colab": {
          "base_uri": "https://localhost:8080/",
          "height": 34
        },
        "outputId": "78fa0fc9-38e7-45d9-afbd-d3990fbd19e1"
      },
      "source": [
        "# create categories to fit the one hot encoder\n",
        "team_category = np.unique(X[:, :2])\n",
        "tournament_category = np.unique(X[:, 2])\n",
        "city_category = np.unique(X[:, 3])\n",
        "neutral_category = np.unique(X[:, 4])\n",
        "\n",
        "categories = [\n",
        "    team_category,\n",
        "    team_category,\n",
        "    tournament_category,\n",
        "    city_category,\n",
        "    neutral_category\n",
        "]\n",
        "\n",
        "X.shape, len(categories)"
      ],
      "execution_count": 12,
      "outputs": [
        {
          "output_type": "execute_result",
          "data": {
            "text/plain": [
              "((39836, 5), 5)"
            ]
          },
          "metadata": {
            "tags": []
          },
          "execution_count": 12
        }
      ]
    },
    {
      "cell_type": "markdown",
      "metadata": {
        "id": "cF6hsUBylC8Z",
        "colab_type": "text"
      },
      "source": [
        "Build our pipeline!\n",
        "\n",
        "Our pipeline will consist of:\n",
        "\n",
        "- An encoder for our features\n",
        "- A Multi-Output regressor to predict the score results"
      ]
    },
    {
      "cell_type": "code",
      "metadata": {
        "id": "wmqu4MZdlH2_",
        "colab_type": "code",
        "colab": {
          "base_uri": "https://localhost:8080/",
          "height": 34
        },
        "outputId": "14f1f2c3-a0db-49cd-efb8-199c4f37b4a7"
      },
      "source": [
        "# split data\n",
        "X_train, X_val, y_train, y_val = train_test_split(X, y, test_size=0.23, random_state=46)\n",
        "print(f'Training with: {X_train.shape[0]} values - Validating on {X_val.shape[0]} values')\n",
        "\n",
        "# create pipeline\n",
        "pipe = Pipeline([\n",
        "    ('encoder', OneHotEncoder(categories=categories)),\n",
        "    ('classifier', MultiOutputRegressor(xgb.XGBRegressor(seed=23, verbosity=0, silent=True, objective='reg:squarederror')))\n",
        "])"
      ],
      "execution_count": 13,
      "outputs": [
        {
          "output_type": "stream",
          "text": [
            "Training with: 30673 values - Validating on 9163 values\n"
          ],
          "name": "stdout"
        }
      ]
    },
    {
      "cell_type": "markdown",
      "metadata": {
        "id": "Y0bIemN9pvYl",
        "colab_type": "text"
      },
      "source": [
        "We'll perform a Grid Search on our pipeline using different hyperparameters for our XGBRegressor:"
      ]
    },
    {
      "cell_type": "code",
      "metadata": {
        "id": "jbM0yp3avFsB",
        "colab_type": "code",
        "colab": {}
      },
      "source": [
        "%%capture\n",
        "\n",
        "hyperparams = {\n",
        "    'classifier__estimator__booster': ['gbtree', 'dart'],\n",
        "    'classifier__estimator__gama': [0, 0.001],\n",
        "    'classifier__estimator__learning_rate': [0.1, 0.01],\n",
        "    'classifier__estimator__max_depth': [3, 5]\n",
        "}\n",
        "\n",
        "search = GridSearchCV(pipe, hyperparams, cv=10)\n",
        "search.fit(X_train, y_train)"
      ],
      "execution_count": 14,
      "outputs": []
    },
    {
      "cell_type": "code",
      "metadata": {
        "id": "viik6Qtc9x3n",
        "colab_type": "code",
        "colab": {
          "base_uri": "https://localhost:8080/",
          "height": 85
        },
        "outputId": "ab57d530-3f10-4066-fec6-f09585b7e204"
      },
      "source": [
        "# which are the best params?\n",
        "search.best_params_"
      ],
      "execution_count": 15,
      "outputs": [
        {
          "output_type": "execute_result",
          "data": {
            "text/plain": [
              "{'classifier__estimator__booster': 'dart',\n",
              " 'classifier__estimator__gama': 0,\n",
              " 'classifier__estimator__learning_rate': 0.1,\n",
              " 'classifier__estimator__max_depth': 5}"
            ]
          },
          "metadata": {
            "tags": []
          },
          "execution_count": 15
        }
      ]
    },
    {
      "cell_type": "markdown",
      "metadata": {
        "id": "2YzQmM4S_Mo9",
        "colab_type": "text"
      },
      "source": [
        "## Test and results visualization\n",
        "\n",
        "We'll use the generated test-set to perform predictions, and we'll get some metrics from it:"
      ]
    },
    {
      "cell_type": "code",
      "metadata": {
        "id": "f0SSvvWExG_0",
        "colab_type": "code",
        "colab": {}
      },
      "source": [
        "# predict on the test-set\n",
        "\n",
        "final = search\n",
        "y_pred = final.predict(X_val)"
      ],
      "execution_count": 16,
      "outputs": []
    },
    {
      "cell_type": "markdown",
      "metadata": {
        "id": "u0krYip7_X8h",
        "colab_type": "text"
      },
      "source": [
        "Errors: Mean Squared Error and R2 Score:"
      ]
    },
    {
      "cell_type": "code",
      "metadata": {
        "id": "6Swebyp1_cTD",
        "colab_type": "code",
        "colab": {
          "base_uri": "https://localhost:8080/",
          "height": 34
        },
        "outputId": "7ca05c0e-5d2b-4cf5-f754-a9ec621baa3a"
      },
      "source": [
        "mse = mean_squared_error(y_val, y_pred)\n",
        "r2 = r2_score(y_val, y_pred)\n",
        "\n",
        "mse, r2"
      ],
      "execution_count": 17,
      "outputs": [
        {
          "output_type": "execute_result",
          "data": {
            "text/plain": [
              "(1.55515224033769, 0.0665657275486396)"
            ]
          },
          "metadata": {
            "tags": []
          },
          "execution_count": 17
        }
      ]
    },
    {
      "cell_type": "markdown",
      "metadata": {
        "id": "wNYE1BtH_dqm",
        "colab_type": "text"
      },
      "source": [
        "Plot results and predicted to get an idea:"
      ]
    },
    {
      "cell_type": "code",
      "metadata": {
        "id": "KUiiAurE_cpc",
        "colab_type": "code",
        "colab": {
          "base_uri": "https://localhost:8080/",
          "height": 284
        },
        "outputId": "52f44ed9-aa98-4e93-c761-daad3d378f3a"
      },
      "source": [
        "# plot relationship\n",
        "plt.title('Scores')\n",
        "\n",
        "sns.distplot(y_val[:, 0], kde=False, label='home score real')\n",
        "sns.distplot(np.round(y_pred[:, 0]), kde=False, label='home score pred')\n",
        "\n",
        "sns.distplot(y_val[:, 1], kde=False, label='away score real')\n",
        "sns.distplot(np.round(y_pred[:, 1]), kde=False, label='away score pred')\n",
        "\n",
        "plt.legend()\n",
        "plt.show()"
      ],
      "execution_count": 22,
      "outputs": [
        {
          "output_type": "display_data",
          "data": {
            "image/png": "[encoded data removed]",
            "text/plain": [
              "<Figure size 432x288 with 1 Axes>"
            ]
          },
          "metadata": {
            "tags": [],
            "needs_background": "light"
          }
        }
      ]
    }
  ]
}