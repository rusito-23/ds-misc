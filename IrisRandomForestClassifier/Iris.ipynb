{
  "nbformat": 4,
  "nbformat_minor": 0,
  "metadata": {
    "colab": {
      "name": "Iris.ipynb",
      "provenance": [],
      "collapsed_sections": []
    },
    "kernelspec": {
      "name": "python3",
      "display_name": "Python 3"
    }
  },
  "cells": [
    {
      "cell_type": "markdown",
      "metadata": {
        "id": "dN-nYbEbAelZ",
        "colab_type": "text"
      },
      "source": [
        "# Iris\n",
        "\n",
        "Playing with Sklearn's Iris dataset to learn about Pipelines and RandomForest."
      ]
    },
    {
      "cell_type": "code",
      "metadata": {
        "id": "gv_JOauNAbjS",
        "colab_type": "code",
        "colab": {}
      },
      "source": [
        "from sklearn.datasets import load_iris\n",
        "from sklearn.ensemble import RandomForestClassifier\n",
        "from sklearn.pipeline import make_pipeline\n",
        "from sklearn.model_selection import train_test_split, GridSearchCV\n",
        "from sklearn.metrics import mean_squared_error, r2_score,\\\n",
        "                            classification_report, confusion_matrix\n",
        "from sklearn import preprocessing\n",
        "import pandas as pd\n",
        "import numpy as np\n",
        "import matplotlib.pyplot as plt"
      ],
      "execution_count": 0,
      "outputs": []
    },
    {
      "cell_type": "markdown",
      "metadata": {
        "id": "AuVkhf3EClL2",
        "colab_type": "text"
      },
      "source": [
        "## Load and read dataset\n",
        "\n",
        "Load the iris dataset into a Pandas dataframe"
      ]
    },
    {
      "cell_type": "code",
      "metadata": {
        "id": "EA-xnkLjCvBD",
        "colab_type": "code",
        "outputId": "b1e37405-c126-4f91-8c75-e439f0a56335",
        "colab": {
          "base_uri": "https://localhost:8080/",
          "height": 34
        }
      },
      "source": [
        "iris = load_iris()\n",
        "irisdf = pd.DataFrame(data=np.c_[iris['data'], iris['target'], iris['target_names'][iris['target']]],\n",
        "                      columns=iris['feature_names'] + ['target'] + ['class_name'])\n",
        "irisdf.shape"
      ],
      "execution_count": 0,
      "outputs": [
        {
          "output_type": "execute_result",
          "data": {
            "text/plain": [
              "(150, 6)"
            ]
          },
          "metadata": {
            "tags": []
          },
          "execution_count": 2
        }
      ]
    },
    {
      "cell_type": "markdown",
      "metadata": {
        "id": "RL0oEg2WGZuL",
        "colab_type": "text"
      },
      "source": [
        "Dataset with 150 samples, each containing 4 features (2 are the target and the class name). Random samples:"
      ]
    },
    {
      "cell_type": "code",
      "metadata": {
        "id": "6iBR9QJMGYvx",
        "colab_type": "code",
        "outputId": "ec0ae514-59e1-4987-9937-58c8c8d824c0",
        "colab": {
          "base_uri": "https://localhost:8080/",
          "height": 204
        }
      },
      "source": [
        "irisdf.sample(5)"
      ],
      "execution_count": 0,
      "outputs": [
        {
          "output_type": "execute_result",
          "data": {
            "text/html": [
              "<div>\n",
              "<style scoped>\n",
              "    .dataframe tbody tr th:only-of-type {\n",
              "        vertical-align: middle;\n",
              "    }\n",
              "\n",
              "    .dataframe tbody tr th {\n",
              "        vertical-align: top;\n",
              "    }\n",
              "\n",
              "    .dataframe thead th {\n",
              "        text-align: right;\n",
              "    }\n",
              "</style>\n",
              "<table border=\"1\" class=\"dataframe\">\n",
              "  <thead>\n",
              "    <tr style=\"text-align: right;\">\n",
              "      <th></th>\n",
              "      <th>sepal length (cm)</th>\n",
              "      <th>sepal width (cm)</th>\n",
              "      <th>petal length (cm)</th>\n",
              "      <th>petal width (cm)</th>\n",
              "      <th>target</th>\n",
              "      <th>class_name</th>\n",
              "    </tr>\n",
              "  </thead>\n",
              "  <tbody>\n",
              "    <tr>\n",
              "      <th>94</th>\n",
              "      <td>5.6</td>\n",
              "      <td>2.7</td>\n",
              "      <td>4.2</td>\n",
              "      <td>1.3</td>\n",
              "      <td>1</td>\n",
              "      <td>versicolor</td>\n",
              "    </tr>\n",
              "    <tr>\n",
              "      <th>11</th>\n",
              "      <td>4.8</td>\n",
              "      <td>3.4</td>\n",
              "      <td>1.6</td>\n",
              "      <td>0.2</td>\n",
              "      <td>0</td>\n",
              "      <td>setosa</td>\n",
              "    </tr>\n",
              "    <tr>\n",
              "      <th>9</th>\n",
              "      <td>4.9</td>\n",
              "      <td>3.1</td>\n",
              "      <td>1.5</td>\n",
              "      <td>0.1</td>\n",
              "      <td>0</td>\n",
              "      <td>setosa</td>\n",
              "    </tr>\n",
              "    <tr>\n",
              "      <th>48</th>\n",
              "      <td>5.3</td>\n",
              "      <td>3.7</td>\n",
              "      <td>1.5</td>\n",
              "      <td>0.2</td>\n",
              "      <td>0</td>\n",
              "      <td>setosa</td>\n",
              "    </tr>\n",
              "    <tr>\n",
              "      <th>82</th>\n",
              "      <td>5.8</td>\n",
              "      <td>2.7</td>\n",
              "      <td>3.9</td>\n",
              "      <td>1.2</td>\n",
              "      <td>1</td>\n",
              "      <td>versicolor</td>\n",
              "    </tr>\n",
              "  </tbody>\n",
              "</table>\n",
              "</div>"
            ],
            "text/plain": [
              "   sepal length (cm) sepal width (cm)  ... target  class_name\n",
              "94               5.6              2.7  ...      1  versicolor\n",
              "11               4.8              3.4  ...      0      setosa\n",
              "9                4.9              3.1  ...      0      setosa\n",
              "48               5.3              3.7  ...      0      setosa\n",
              "82               5.8              2.7  ...      1  versicolor\n",
              "\n",
              "[5 rows x 6 columns]"
            ]
          },
          "metadata": {
            "tags": []
          },
          "execution_count": 3
        }
      ]
    },
    {
      "cell_type": "markdown",
      "metadata": {
        "id": "06852UXEEulv",
        "colab_type": "text"
      },
      "source": [
        "Check our labels:"
      ]
    },
    {
      "cell_type": "code",
      "metadata": {
        "id": "V0lxbku7D_zI",
        "colab_type": "code",
        "outputId": "c0b023f8-42d6-42cb-df61-c7b7bcfa3226",
        "colab": {
          "base_uri": "https://localhost:8080/",
          "height": 142
        }
      },
      "source": [
        "labelsdf = pd.DataFrame(data=iris['target_names'], columns=['Labels'])\n",
        "labelsdf"
      ],
      "execution_count": 0,
      "outputs": [
        {
          "output_type": "execute_result",
          "data": {
            "text/html": [
              "<div>\n",
              "<style scoped>\n",
              "    .dataframe tbody tr th:only-of-type {\n",
              "        vertical-align: middle;\n",
              "    }\n",
              "\n",
              "    .dataframe tbody tr th {\n",
              "        vertical-align: top;\n",
              "    }\n",
              "\n",
              "    .dataframe thead th {\n",
              "        text-align: right;\n",
              "    }\n",
              "</style>\n",
              "<table border=\"1\" class=\"dataframe\">\n",
              "  <thead>\n",
              "    <tr style=\"text-align: right;\">\n",
              "      <th></th>\n",
              "      <th>Labels</th>\n",
              "    </tr>\n",
              "  </thead>\n",
              "  <tbody>\n",
              "    <tr>\n",
              "      <th>0</th>\n",
              "      <td>setosa</td>\n",
              "    </tr>\n",
              "    <tr>\n",
              "      <th>1</th>\n",
              "      <td>versicolor</td>\n",
              "    </tr>\n",
              "    <tr>\n",
              "      <th>2</th>\n",
              "      <td>virginica</td>\n",
              "    </tr>\n",
              "  </tbody>\n",
              "</table>\n",
              "</div>"
            ],
            "text/plain": [
              "       Labels\n",
              "0      setosa\n",
              "1  versicolor\n",
              "2   virginica"
            ]
          },
          "metadata": {
            "tags": []
          },
          "execution_count": 4
        }
      ]
    },
    {
      "cell_type": "markdown",
      "metadata": {
        "id": "tShri14NFPN0",
        "colab_type": "text"
      },
      "source": [
        "Check our dataset features:"
      ]
    },
    {
      "cell_type": "code",
      "metadata": {
        "id": "p1rZi_oFFFI7",
        "colab_type": "code",
        "outputId": "0dea85d9-138d-4bf9-e0dd-e1d48cf9a99f",
        "colab": {
          "base_uri": "https://localhost:8080/",
          "height": 173
        }
      },
      "source": [
        "featuresdf = pd.DataFrame(data=iris['feature_names'], columns=['Features'])\n",
        "featuresdf"
      ],
      "execution_count": 0,
      "outputs": [
        {
          "output_type": "execute_result",
          "data": {
            "text/html": [
              "<div>\n",
              "<style scoped>\n",
              "    .dataframe tbody tr th:only-of-type {\n",
              "        vertical-align: middle;\n",
              "    }\n",
              "\n",
              "    .dataframe tbody tr th {\n",
              "        vertical-align: top;\n",
              "    }\n",
              "\n",
              "    .dataframe thead th {\n",
              "        text-align: right;\n",
              "    }\n",
              "</style>\n",
              "<table border=\"1\" class=\"dataframe\">\n",
              "  <thead>\n",
              "    <tr style=\"text-align: right;\">\n",
              "      <th></th>\n",
              "      <th>Features</th>\n",
              "    </tr>\n",
              "  </thead>\n",
              "  <tbody>\n",
              "    <tr>\n",
              "      <th>0</th>\n",
              "      <td>sepal length (cm)</td>\n",
              "    </tr>\n",
              "    <tr>\n",
              "      <th>1</th>\n",
              "      <td>sepal width (cm)</td>\n",
              "    </tr>\n",
              "    <tr>\n",
              "      <th>2</th>\n",
              "      <td>petal length (cm)</td>\n",
              "    </tr>\n",
              "    <tr>\n",
              "      <th>3</th>\n",
              "      <td>petal width (cm)</td>\n",
              "    </tr>\n",
              "  </tbody>\n",
              "</table>\n",
              "</div>"
            ],
            "text/plain": [
              "            Features\n",
              "0  sepal length (cm)\n",
              "1   sepal width (cm)\n",
              "2  petal length (cm)\n",
              "3   petal width (cm)"
            ]
          },
          "metadata": {
            "tags": []
          },
          "execution_count": 5
        }
      ]
    },
    {
      "cell_type": "markdown",
      "metadata": {
        "id": "zJypqdL6G42v",
        "colab_type": "text"
      },
      "source": [
        "Split our dataset"
      ]
    },
    {
      "cell_type": "code",
      "metadata": {
        "id": "lHrTIaarFbj6",
        "colab_type": "code",
        "outputId": "fb2e728f-9b67-4233-b6eb-bdc07c31f861",
        "colab": {
          "base_uri": "https://localhost:8080/",
          "height": 34
        }
      },
      "source": [
        "X_train, X_val, y_train, y_val = train_test_split(iris['data'], iris['target'], test_size=0.33, random_state=46)\n",
        "X_train.shape, y_train.shape, X_val.shape, y_val.shape"
      ],
      "execution_count": 0,
      "outputs": [
        {
          "output_type": "execute_result",
          "data": {
            "text/plain": [
              "((100, 4), (100,), (50, 4), (50,))"
            ]
          },
          "metadata": {
            "tags": []
          },
          "execution_count": 6
        }
      ]
    },
    {
      "cell_type": "markdown",
      "metadata": {
        "id": "xkpw0lQeKbuB",
        "colab_type": "text"
      },
      "source": [
        "### Data preprocessing\n",
        "\n",
        "We'll use sklearn's StandardScaler to center our dataset in zero, using a Normal distribution, we need to fit the scaler with our train data, and then perform the scale:"
      ]
    },
    {
      "cell_type": "code",
      "metadata": {
        "id": "OmpKp1fPHV5U",
        "colab_type": "code",
        "outputId": "e41b0903-82a6-48fe-c5f6-c28e7d52beb5",
        "colab": {
          "base_uri": "https://localhost:8080/",
          "height": 51
        }
      },
      "source": [
        "scaler = preprocessing.StandardScaler().fit(X_train)\n",
        "\n",
        "\n",
        "X_train_scaled = scaler.transform(X_train)\n",
        "X_train_scaled.mean(axis=0), X_train_scaled.std(axis=0)"
      ],
      "execution_count": 0,
      "outputs": [
        {
          "output_type": "execute_result",
          "data": {
            "text/plain": [
              "(array([ 1.30950806e-15, -3.32400774e-15,  1.47763746e-15, -4.44644321e-16]),\n",
              " array([1., 1., 1., 1.]))"
            ]
          },
          "metadata": {
            "tags": []
          },
          "execution_count": 7
        }
      ]
    },
    {
      "cell_type": "markdown",
      "metadata": {
        "id": "TTPxEI0LLNPt",
        "colab_type": "text"
      },
      "source": [
        "The means are pretty close to zero, and the standard deviations are all 1."
      ]
    },
    {
      "cell_type": "markdown",
      "metadata": {
        "id": "fAQwWzLZLvnD",
        "colab_type": "text"
      },
      "source": [
        "### Pipeline\n",
        "\n",
        "RandomForest pipeline with preprocessing:"
      ]
    },
    {
      "cell_type": "code",
      "metadata": {
        "id": "lKgf3fmqLCYF",
        "colab_type": "code",
        "colab": {}
      },
      "source": [
        "pipeline = make_pipeline(\n",
        "    preprocessing.StandardScaler(),\n",
        "    RandomForestClassifier(n_estimators=100)\n",
        ")"
      ],
      "execution_count": 0,
      "outputs": []
    },
    {
      "cell_type": "markdown",
      "metadata": {
        "id": "lM48zEx4MaTF",
        "colab_type": "text"
      },
      "source": [
        "### Hyperparameters\n",
        "\n",
        "[Here](https://scikit-learn.org/stable/modules/generated/sklearn.ensemble.RandomForestClassifier.html)"
      ]
    },
    {
      "cell_type": "code",
      "metadata": {
        "id": "hpuxexPDMZj4",
        "colab_type": "code",
        "outputId": "0338a3fa-6a22-4241-f8f6-80fe56552aa6",
        "colab": {
          "base_uri": "https://localhost:8080/",
          "height": 765
        }
      },
      "source": [
        "pipeline.get_params()"
      ],
      "execution_count": 0,
      "outputs": [
        {
          "output_type": "execute_result",
          "data": {
            "text/plain": [
              "{'memory': None,\n",
              " 'randomforestclassifier': RandomForestClassifier(bootstrap=True, ccp_alpha=0.0, class_weight=None,\n",
              "                        criterion='gini', max_depth=None, max_features='auto',\n",
              "                        max_leaf_nodes=None, max_samples=None,\n",
              "                        min_impurity_decrease=0.0, min_impurity_split=None,\n",
              "                        min_samples_leaf=1, min_samples_split=2,\n",
              "                        min_weight_fraction_leaf=0.0, n_estimators=100,\n",
              "                        n_jobs=None, oob_score=False, random_state=None,\n",
              "                        verbose=0, warm_start=False),\n",
              " 'randomforestclassifier__bootstrap': True,\n",
              " 'randomforestclassifier__ccp_alpha': 0.0,\n",
              " 'randomforestclassifier__class_weight': None,\n",
              " 'randomforestclassifier__criterion': 'gini',\n",
              " 'randomforestclassifier__max_depth': None,\n",
              " 'randomforestclassifier__max_features': 'auto',\n",
              " 'randomforestclassifier__max_leaf_nodes': None,\n",
              " 'randomforestclassifier__max_samples': None,\n",
              " 'randomforestclassifier__min_impurity_decrease': 0.0,\n",
              " 'randomforestclassifier__min_impurity_split': None,\n",
              " 'randomforestclassifier__min_samples_leaf': 1,\n",
              " 'randomforestclassifier__min_samples_split': 2,\n",
              " 'randomforestclassifier__min_weight_fraction_leaf': 0.0,\n",
              " 'randomforestclassifier__n_estimators': 100,\n",
              " 'randomforestclassifier__n_jobs': None,\n",
              " 'randomforestclassifier__oob_score': False,\n",
              " 'randomforestclassifier__random_state': None,\n",
              " 'randomforestclassifier__verbose': 0,\n",
              " 'randomforestclassifier__warm_start': False,\n",
              " 'standardscaler': StandardScaler(copy=True, with_mean=True, with_std=True),\n",
              " 'standardscaler__copy': True,\n",
              " 'standardscaler__with_mean': True,\n",
              " 'standardscaler__with_std': True,\n",
              " 'steps': [('standardscaler',\n",
              "   StandardScaler(copy=True, with_mean=True, with_std=True)),\n",
              "  ('randomforestclassifier',\n",
              "   RandomForestClassifier(bootstrap=True, ccp_alpha=0.0, class_weight=None,\n",
              "                          criterion='gini', max_depth=None, max_features='auto',\n",
              "                          max_leaf_nodes=None, max_samples=None,\n",
              "                          min_impurity_decrease=0.0, min_impurity_split=None,\n",
              "                          min_samples_leaf=1, min_samples_split=2,\n",
              "                          min_weight_fraction_leaf=0.0, n_estimators=100,\n",
              "                          n_jobs=None, oob_score=False, random_state=None,\n",
              "                          verbose=0, warm_start=False))],\n",
              " 'verbose': False}"
            ]
          },
          "metadata": {
            "tags": []
          },
          "execution_count": 9
        }
      ]
    },
    {
      "cell_type": "code",
      "metadata": {
        "id": "BPZnUCQUMoTO",
        "colab_type": "code",
        "colab": {}
      },
      "source": [
        "hyperparams = {\n",
        "    'randomforestclassifier__criterion': ['gini', 'entropy'],\n",
        "    'randomforestclassifier__max_depth': [None, 100, 80, 50, 40, 20, 10],\n",
        "    'randomforestclassifier__max_features': ['auto', 'sqrt', 'log2'],\n",
        "    'randomforestclassifier__class_weight': [None, 'balanced', 'balanced_subsample']\n",
        "}"
      ],
      "execution_count": 0,
      "outputs": []
    },
    {
      "cell_type": "markdown",
      "metadata": {
        "id": "96EQ7fDzNjjy",
        "colab_type": "text"
      },
      "source": [
        "### Grid search"
      ]
    },
    {
      "cell_type": "code",
      "metadata": {
        "id": "gLr28VKMNYz2",
        "colab_type": "code",
        "outputId": "bbe5c4aa-35dc-4e23-ec1d-5dc289b3aa2b",
        "colab": {
          "base_uri": "https://localhost:8080/",
          "height": 85
        }
      },
      "source": [
        "search = GridSearchCV(pipeline, hyperparams, cv=10)\n",
        "search.fit(X_train, y_train)\n",
        "\n",
        "search.best_params_"
      ],
      "execution_count": 0,
      "outputs": [
        {
          "output_type": "execute_result",
          "data": {
            "text/plain": [
              "{'randomforestclassifier__class_weight': None,\n",
              " 'randomforestclassifier__criterion': 'gini',\n",
              " 'randomforestclassifier__max_depth': 50,\n",
              " 'randomforestclassifier__max_features': 'auto'}"
            ]
          },
          "metadata": {
            "tags": []
          },
          "execution_count": 11
        }
      ]
    },
    {
      "cell_type": "markdown",
      "metadata": {
        "id": "wt7q_ndeOfOg",
        "colab_type": "text"
      },
      "source": [
        "### Test\n",
        "\n",
        "Now that we found the best hyperparameters, we'll predict and check metrics in our testset"
      ]
    },
    {
      "cell_type": "code",
      "metadata": {
        "id": "GpwJNUB1NuUA",
        "colab_type": "code",
        "colab": {}
      },
      "source": [
        "final = search\n",
        "\n",
        "y_pred = final.predict(X_val)"
      ],
      "execution_count": 0,
      "outputs": []
    },
    {
      "cell_type": "markdown",
      "metadata": {
        "id": "a0nNZ0JaP2F7",
        "colab_type": "text"
      },
      "source": [
        "MSE and R2Score"
      ]
    },
    {
      "cell_type": "code",
      "metadata": {
        "id": "qg7s3B4zPFmq",
        "colab_type": "code",
        "outputId": "a66beb00-eebf-417b-d53e-b0b81a7f296a",
        "colab": {
          "base_uri": "https://localhost:8080/",
          "height": 34
        }
      },
      "source": [
        "mse = mean_squared_error(y_val, y_pred)\n",
        "r2 = r2_score(y_val, y_pred)\n",
        "\n",
        "mse, r2"
      ],
      "execution_count": 0,
      "outputs": [
        {
          "output_type": "execute_result",
          "data": {
            "text/plain": [
              "(0.1, 0.8515439429928742)"
            ]
          },
          "metadata": {
            "tags": []
          },
          "execution_count": 13
        }
      ]
    },
    {
      "cell_type": "markdown",
      "metadata": {
        "id": "MwsdwSYFQH9w",
        "colab_type": "text"
      },
      "source": [
        "Results are great, low MSE and high score, let's see the classification report:"
      ]
    },
    {
      "cell_type": "code",
      "metadata": {
        "id": "yfS5iVwKQvWs",
        "colab_type": "code",
        "outputId": "0361df0a-0446-4ea3-b5e6-07845450d248",
        "colab": {
          "base_uri": "https://localhost:8080/",
          "height": 34
        }
      },
      "source": [
        "np.unique(y_pred)"
      ],
      "execution_count": 0,
      "outputs": [
        {
          "output_type": "execute_result",
          "data": {
            "text/plain": [
              "array([0, 1, 2])"
            ]
          },
          "metadata": {
            "tags": []
          },
          "execution_count": 14
        }
      ]
    },
    {
      "cell_type": "code",
      "metadata": {
        "id": "zB5tZTfgQF0R",
        "colab_type": "code",
        "outputId": "2da135a0-e468-45b8-eca3-02c012632ad6",
        "colab": {
          "base_uri": "https://localhost:8080/",
          "height": 187
        }
      },
      "source": [
        "# parse labels information\n",
        "labels = np.unique(iris['target'])\n",
        "labels_names = iris['target_names']\n",
        "\n",
        "# get classification report\n",
        "report = classification_report(y_val,\n",
        "                               y_pred,\n",
        "                               labels=labels,\n",
        "                               target_names=labels_names,\n",
        "                               zero_division=False)\n",
        "\n",
        "print(report)"
      ],
      "execution_count": 0,
      "outputs": [
        {
          "output_type": "stream",
          "text": [
            "              precision    recall  f1-score   support\n",
            "\n",
            "      setosa       1.00      1.00      1.00        19\n",
            "  versicolor       0.82      0.88      0.85        16\n",
            "   virginica       0.86      0.80      0.83        15\n",
            "\n",
            "    accuracy                           0.90        50\n",
            "   macro avg       0.89      0.89      0.89        50\n",
            "weighted avg       0.90      0.90      0.90        50\n",
            "\n"
          ],
          "name": "stdout"
        }
      ]
    },
    {
      "cell_type": "markdown",
      "metadata": {
        "id": "sluV0k0kUoLy",
        "colab_type": "text"
      },
      "source": [
        "Confusion matrix"
      ]
    },
    {
      "cell_type": "code",
      "metadata": {
        "id": "qWP1LXjCUf_L",
        "colab_type": "code",
        "outputId": "caaee054-8cdc-4de4-86f9-a54d501b1d7c",
        "colab": {
          "base_uri": "https://localhost:8080/",
          "height": 483
        }
      },
      "source": [
        "fig, ax = plt.subplots(figsize=(8, 8))\n",
        "cnf_matrix = confusion_matrix(y_val, y_pred, labels=labels)\n",
        "im = ax.imshow(cnf_matrix, interpolation='nearest')\n",
        "plt.colorbar(im)\n",
        "tick_marks = np.arange(len(labels))\n",
        "_ = plt.xticks(tick_marks, labels_names, rotation=90)\n",
        "_ = plt.yticks(tick_marks, labels_names)"
      ],
      "execution_count": 0,
      "outputs": [
        {
          "output_type": "display_data",
          "data": {
            "image/png": "[encoded data removed]",
            "text/plain": [
              "<Figure size 576x576 with 2 Axes>"
            ]
          },
          "metadata": {
            "tags": [],
            "needs_background": "light"
          }
        }
      ]
    }
  ]
}