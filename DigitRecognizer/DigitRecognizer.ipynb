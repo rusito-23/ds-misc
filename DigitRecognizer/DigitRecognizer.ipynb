{
  "nbformat": 4,
  "nbformat_minor": 0,
  "metadata": {
    "colab": {
      "name": "DigitRecognizer.ipynb",
      "provenance": [],
      "collapsed_sections": []
    },
    "kernelspec": {
      "name": "python3",
      "display_name": "Python 3"
    },
    "accelerator": "GPU",
    "widgets": {
      "application/vnd.jupyter.widget-state+json": {
        "4ac92fe36e3a4644b4eaa00c91764000": {
          "model_module": "@jupyter-widgets/controls",
          "model_name": "HBoxModel",
          "state": {
            "_view_name": "HBoxView",
            "_dom_classes": [],
            "_model_name": "HBoxModel",
            "_view_module": "@jupyter-widgets/controls",
            "_model_module_version": "1.5.0",
            "_view_count": null,
            "_view_module_version": "1.5.0",
            "box_style": "",
            "layout": "IPY_MODEL_17bb7614a3a848f2bb2841e1bf292eed",
            "_model_module": "@jupyter-widgets/controls",
            "children": [
              "IPY_MODEL_bc50dca99b684442bc3726259028fff7",
              "IPY_MODEL_73254a3dc8d34fe3a26c7fac97e758b1"
            ]
          }
        },
        "17bb7614a3a848f2bb2841e1bf292eed": {
          "model_module": "@jupyter-widgets/base",
          "model_name": "LayoutModel",
          "state": {
            "_view_name": "LayoutView",
            "grid_template_rows": null,
            "right": null,
            "justify_content": null,
            "_view_module": "@jupyter-widgets/base",
            "overflow": null,
            "_model_module_version": "1.2.0",
            "_view_count": null,
            "flex_flow": null,
            "width": null,
            "min_width": null,
            "border": null,
            "align_items": null,
            "bottom": null,
            "_model_module": "@jupyter-widgets/base",
            "top": null,
            "grid_column": null,
            "overflow_y": null,
            "overflow_x": null,
            "grid_auto_flow": null,
            "grid_area": null,
            "grid_template_columns": null,
            "flex": null,
            "_model_name": "LayoutModel",
            "justify_items": null,
            "grid_row": null,
            "max_height": null,
            "align_content": null,
            "visibility": null,
            "align_self": null,
            "height": null,
            "min_height": null,
            "padding": null,
            "grid_auto_rows": null,
            "grid_gap": null,
            "max_width": null,
            "order": null,
            "_view_module_version": "1.2.0",
            "grid_template_areas": null,
            "object_position": null,
            "object_fit": null,
            "grid_auto_columns": null,
            "margin": null,
            "display": null,
            "left": null
          }
        },
        "bc50dca99b684442bc3726259028fff7": {
          "model_module": "@jupyter-widgets/controls",
          "model_name": "IntProgressModel",
          "state": {
            "_view_name": "ProgressView",
            "style": "IPY_MODEL_5b662727c5ee403f8584276fb3e77879",
            "_dom_classes": [],
            "description": "100%",
            "_model_name": "IntProgressModel",
            "bar_style": "success",
            "max": 50,
            "_view_module": "@jupyter-widgets/controls",
            "_model_module_version": "1.5.0",
            "value": 50,
            "_view_count": null,
            "_view_module_version": "1.5.0",
            "orientation": "horizontal",
            "min": 0,
            "description_tooltip": null,
            "_model_module": "@jupyter-widgets/controls",
            "layout": "IPY_MODEL_5301d2aba0934cbdaf346ebf91e4eb08"
          }
        },
        "73254a3dc8d34fe3a26c7fac97e758b1": {
          "model_module": "@jupyter-widgets/controls",
          "model_name": "HTMLModel",
          "state": {
            "_view_name": "HTMLView",
            "style": "IPY_MODEL_f5cb7f0f238c46a5b67c77626efa204f",
            "_dom_classes": [],
            "description": "",
            "_model_name": "HTMLModel",
            "placeholder": "​",
            "_view_module": "@jupyter-widgets/controls",
            "_model_module_version": "1.5.0",
            "value": " 50/50 [00:10&lt;00:00,  4.72it/s]",
            "_view_count": null,
            "_view_module_version": "1.5.0",
            "description_tooltip": null,
            "_model_module": "@jupyter-widgets/controls",
            "layout": "IPY_MODEL_273f8980c39943f8a226daef86057b01"
          }
        },
        "5b662727c5ee403f8584276fb3e77879": {
          "model_module": "@jupyter-widgets/controls",
          "model_name": "ProgressStyleModel",
          "state": {
            "_view_name": "StyleView",
            "_model_name": "ProgressStyleModel",
            "description_width": "initial",
            "_view_module": "@jupyter-widgets/base",
            "_model_module_version": "1.5.0",
            "_view_count": null,
            "_view_module_version": "1.2.0",
            "bar_color": null,
            "_model_module": "@jupyter-widgets/controls"
          }
        },
        "5301d2aba0934cbdaf346ebf91e4eb08": {
          "model_module": "@jupyter-widgets/base",
          "model_name": "LayoutModel",
          "state": {
            "_view_name": "LayoutView",
            "grid_template_rows": null,
            "right": null,
            "justify_content": null,
            "_view_module": "@jupyter-widgets/base",
            "overflow": null,
            "_model_module_version": "1.2.0",
            "_view_count": null,
            "flex_flow": null,
            "width": null,
            "min_width": null,
            "border": null,
            "align_items": null,
            "bottom": null,
            "_model_module": "@jupyter-widgets/base",
            "top": null,
            "grid_column": null,
            "overflow_y": null,
            "overflow_x": null,
            "grid_auto_flow": null,
            "grid_area": null,
            "grid_template_columns": null,
            "flex": null,
            "_model_name": "LayoutModel",
            "justify_items": null,
            "grid_row": null,
            "max_height": null,
            "align_content": null,
            "visibility": null,
            "align_self": null,
            "height": null,
            "min_height": null,
            "padding": null,
            "grid_auto_rows": null,
            "grid_gap": null,
            "max_width": null,
            "order": null,
            "_view_module_version": "1.2.0",
            "grid_template_areas": null,
            "object_position": null,
            "object_fit": null,
            "grid_auto_columns": null,
            "margin": null,
            "display": null,
            "left": null
          }
        },
        "f5cb7f0f238c46a5b67c77626efa204f": {
          "model_module": "@jupyter-widgets/controls",
          "model_name": "DescriptionStyleModel",
          "state": {
            "_view_name": "StyleView",
            "_model_name": "DescriptionStyleModel",
            "description_width": "",
            "_view_module": "@jupyter-widgets/base",
            "_model_module_version": "1.5.0",
            "_view_count": null,
            "_view_module_version": "1.2.0",
            "_model_module": "@jupyter-widgets/controls"
          }
        },
        "273f8980c39943f8a226daef86057b01": {
          "model_module": "@jupyter-widgets/base",
          "model_name": "LayoutModel",
          "state": {
            "_view_name": "LayoutView",
            "grid_template_rows": null,
            "right": null,
            "justify_content": null,
            "_view_module": "@jupyter-widgets/base",
            "overflow": null,
            "_model_module_version": "1.2.0",
            "_view_count": null,
            "flex_flow": null,
            "width": null,
            "min_width": null,
            "border": null,
            "align_items": null,
            "bottom": null,
            "_model_module": "@jupyter-widgets/base",
            "top": null,
            "grid_column": null,
            "overflow_y": null,
            "overflow_x": null,
            "grid_auto_flow": null,
            "grid_area": null,
            "grid_template_columns": null,
            "flex": null,
            "_model_name": "LayoutModel",
            "justify_items": null,
            "grid_row": null,
            "max_height": null,
            "align_content": null,
            "visibility": null,
            "align_self": null,
            "height": null,
            "min_height": null,
            "padding": null,
            "grid_auto_rows": null,
            "grid_gap": null,
            "max_width": null,
            "order": null,
            "_view_module_version": "1.2.0",
            "grid_template_areas": null,
            "object_position": null,
            "object_fit": null,
            "grid_auto_columns": null,
            "margin": null,
            "display": null,
            "left": null
          }
        }
      }
    }
  },
  "cells": [
    {
      "cell_type": "markdown",
      "metadata": {
        "id": "wlY_HbKq8phR",
        "colab_type": "text"
      },
      "source": [
        "# Digit Recognizer\n",
        "\n",
        "Using sklearn's **digits** dataset to perform classification.\n",
        "\n",
        "The digits dataset contains handwritten digits where each label represents the written number.\n",
        "\n",
        "The model used to perform the classification will be a Convolutional model with a fully connected layer.\n",
        "\n",
        "The model will be built from scratch, without transfer learning."
      ]
    },
    {
      "cell_type": "markdown",
      "metadata": {
        "id": "tRzuvb9i9H9d",
        "colab_type": "text"
      },
      "source": [
        "### Imports"
      ]
    },
    {
      "cell_type": "code",
      "metadata": {
        "id": "CN2HE_mF83Rm",
        "colab_type": "code",
        "colab": {}
      },
      "source": [
        "import random\n",
        "from tqdm.notebook import tqdm\n",
        "\n",
        "from matplotlib.colors import TABLEAU_COLORS\n",
        "import matplotlib.pyplot as plt\n",
        "import numpy as np\n",
        "from PIL import Image\n",
        "\n",
        "from sklearn import datasets as ds\n",
        "from sklearn.model_selection import train_test_split\n",
        "from sklearn.metrics import classification_report as class_report\n",
        "from sklearn.metrics import confusion_matrix\n",
        "\n",
        "import torch\n",
        "from torch import nn\n",
        "from torch import functional as F\n",
        "from torchvision import transforms as T"
      ],
      "execution_count": 0,
      "outputs": []
    },
    {
      "cell_type": "markdown",
      "metadata": {
        "id": "MnwsMwdI9BgE",
        "colab_type": "text"
      },
      "source": [
        "### Data visualization\n",
        "\n",
        "We'll load the data given by sklearn, and plot some random digits to understand the *X* -> *y* relation."
      ]
    },
    {
      "cell_type": "code",
      "metadata": {
        "id": "QtVlCTF89AGU",
        "colab_type": "code",
        "colab": {
          "base_uri": "https://localhost:8080/",
          "height": 34
        },
        "outputId": "5c747d0c-ac83-4e9f-cb03-d8da520bcbda"
      },
      "source": [
        "digits = ds.load_digits()\n",
        "\n",
        "X, y = digits.images, digits.target\n",
        "\n",
        "X.shape, y.shape"
      ],
      "execution_count": 2,
      "outputs": [
        {
          "output_type": "execute_result",
          "data": {
            "text/plain": [
              "((1797, 8, 8), (1797,))"
            ]
          },
          "metadata": {
            "tags": []
          },
          "execution_count": 2
        }
      ]
    },
    {
      "cell_type": "code",
      "metadata": {
        "id": "WIpWKQjV9MUy",
        "colab_type": "code",
        "colab": {
          "base_uri": "https://localhost:8080/",
          "height": 240
        },
        "outputId": "1d73dc22-d503-4f0d-913f-882c93d97e2e"
      },
      "source": [
        "fig, ax = plt.subplots(2, 5)\n",
        "ax = ax.ravel()\n",
        "\n",
        "for i in range(10):\n",
        "  idx = random.randint(0, len(X)-1)\n",
        "\n",
        "  ax[i].set_title(f'Label: {y[idx]}')\n",
        "  ax[i].imshow(X[idx])"
      ],
      "execution_count": 3,
      "outputs": [
        {
          "output_type": "display_data",
          "data": {
            "image/png": "[encoded data removed]",
            "text/plain": [
              "<Figure size 432x288 with 10 Axes>"
            ]
          },
          "metadata": {
            "tags": [],
            "needs_background": "light"
          }
        }
      ]
    },
    {
      "cell_type": "markdown",
      "metadata": {
        "id": "RSnXlE4x9IvD",
        "colab_type": "text"
      },
      "source": [
        "Let's see the distribution per class:"
      ]
    },
    {
      "cell_type": "code",
      "metadata": {
        "id": "uZYMGxhw9MOg",
        "colab_type": "code",
        "colab": {
          "base_uri": "https://localhost:8080/",
          "height": 350
        },
        "outputId": "4aa0a517-9e60-40e7-d0b4-7aa7ff6f3f8a"
      },
      "source": [
        "classes = np.unique(digits.target)\n",
        "distribution = np.array([np.count_nonzero(digits.target == c) for c in classes])\n",
        "\n",
        "fig, ax = plt.subplots(figsize=(10, 5))\n",
        "ax.set_title('Number of ocurrences per digits')\n",
        "ax.bar(classes, distribution, color=TABLEAU_COLORS)\n",
        "ax.set_xticks(classes)\n",
        "ax.grid()\n",
        "plt.xlabel('Digits')\n",
        "plt.ylabel('Occurences')\n",
        "plt.show()"
      ],
      "execution_count": 4,
      "outputs": [
        {
          "output_type": "display_data",
          "data": {
            "image/png": "[encoded data removed]",
            "text/plain": [
              "<Figure size 720x360 with 1 Axes>"
            ]
          },
          "metadata": {
            "tags": [],
            "needs_background": "light"
          }
        }
      ]
    },
    {
      "cell_type": "markdown",
      "metadata": {
        "id": "GUNrfaQ3BKab",
        "colab_type": "text"
      },
      "source": [
        "### Create Dataset\n",
        "\n",
        "Create a pytorch Dataset, transforming the array to a Pytorch tensor.\n",
        "\n",
        "Split the dataset into train & validation, and finally setup a dataloader.\n",
        "\n",
        "But first, let's setup some constants:"
      ]
    },
    {
      "cell_type": "code",
      "metadata": {
        "id": "pP8nd3gIFLUo",
        "colab_type": "code",
        "colab": {}
      },
      "source": [
        "num_classes = len(np.unique(y))\n",
        "input_shape = X[0].shape\n",
        "batch_size = 64\n",
        "mean, std = [0.5], [0.5]"
      ],
      "execution_count": 0,
      "outputs": []
    },
    {
      "cell_type": "code",
      "metadata": {
        "id": "lV8EjnZ5DIcW",
        "colab_type": "code",
        "colab": {}
      },
      "source": [
        "\n",
        "def to_tensor(im):\n",
        "  transform = T.Compose([\n",
        "    T.ToTensor(),\n",
        "    T.Normalize(mean, std)\n",
        "  ])\n",
        "  tensor = transform(im)\n",
        "  return tensor"
      ],
      "execution_count": 0,
      "outputs": []
    },
    {
      "cell_type": "code",
      "metadata": {
        "id": "BTqXYyfm_xUd",
        "colab_type": "code",
        "colab": {}
      },
      "source": [
        "class DigitsDataset(torch.utils.data.Dataset):\n",
        "  def __init__(self, X, y, num_classes):\n",
        "    self.X = X\n",
        "    self.y = y\n",
        "    self.num_classes = num_classes\n",
        "  \n",
        "  def __len__(self):\n",
        "    return len(self.X)\n",
        "  \n",
        "  def __getitem__(self, idx):\n",
        "    im = self.X[idx]\n",
        "    label = self.y[idx]\n",
        "    return to_tensor(im), label"
      ],
      "execution_count": 0,
      "outputs": []
    },
    {
      "cell_type": "code",
      "metadata": {
        "id": "VWJuz4xFBUY8",
        "colab_type": "code",
        "colab": {}
      },
      "source": [
        "X_train, X_val, y_train, y_val = train_test_split(X, y, test_size=0.33, random_state=46)\n",
        "\n",
        "train_dataset = DigitsDataset(X_train, y_train, num_classes)\n",
        "val_dataset =  DigitsDataset(X_val, y_val, num_classes)\n",
        "\n",
        "train_loader = torch.utils.data.DataLoader(train_dataset, batch_size=batch_size)\n",
        "val_loader = torch.utils.data.DataLoader(val_dataset, batch_size=batch_size)"
      ],
      "execution_count": 0,
      "outputs": []
    },
    {
      "cell_type": "code",
      "metadata": {
        "id": "Z_P6-a5NFN-J",
        "colab_type": "code",
        "colab": {
          "base_uri": "https://localhost:8080/",
          "height": 34
        },
        "outputId": "e6d16733-5aca-4a54-9371-589885892b22"
      },
      "source": [
        "len(train_loader.dataset), len(val_loader.dataset)"
      ],
      "execution_count": 9,
      "outputs": [
        {
          "output_type": "execute_result",
          "data": {
            "text/plain": [
              "(1203, 594)"
            ]
          },
          "metadata": {
            "tags": []
          },
          "execution_count": 9
        }
      ]
    },
    {
      "cell_type": "markdown",
      "metadata": {
        "id": "QGxQLWbd_rLe",
        "colab_type": "text"
      },
      "source": [
        "Let's check our split didn't affect the digits distribution."
      ]
    },
    {
      "cell_type": "code",
      "metadata": {
        "id": "MmHSZhTB_v95",
        "colab_type": "code",
        "colab": {
          "base_uri": "https://localhost:8080/",
          "height": 309
        },
        "outputId": "d09a1b9c-c740-4c11-ebc1-4cac792cb131"
      },
      "source": [
        "fig, ax = plt.subplots(1, 2, figsize=(20, 5))\n",
        "\n",
        "# get train and val occurences per digit\n",
        "\n",
        "train_classes = np.unique(y_train)\n",
        "train_dist = np.array([np.count_nonzero(y_train == c) for c in train_classes])\n",
        "\n",
        "val_classes = np.unique(y_val)\n",
        "val_dist = np.array([np.count_nonzero(y_val == c) for c in val_classes])\n",
        "\n",
        "# plot train occurences per digit\n",
        "\n",
        "ax[0].set_title('OPD (Train)')\n",
        "ax[0].bar(train_classes, train_dist, color=TABLEAU_COLORS)\n",
        "ax[0].set_xticks(classes)\n",
        "ax[0].grid()\n",
        "\n",
        "plt.xlabel('Digits')\n",
        "plt.ylabel('Occurences')\n",
        "\n",
        "# plot val occurences per digit\n",
        "\n",
        "ax[1].set_title('OPD (Val)')\n",
        "ax[1].bar(train_classes, train_dist, color=TABLEAU_COLORS)\n",
        "ax[1].set_xticks(classes)\n",
        "ax[1].grid()\n",
        "\n",
        "plt.xlabel('Digits')\n",
        "plt.ylabel('Occurences')\n",
        "\n",
        "plt.show()"
      ],
      "execution_count": 10,
      "outputs": [
        {
          "output_type": "display_data",
          "data": {
            "image/png": "[encoded data removed]",
            "text/plain": [
              "<Figure size 1440x360 with 2 Axes>"
            ]
          },
          "metadata": {
            "tags": [],
            "needs_background": "light"
          }
        }
      ]
    },
    {
      "cell_type": "markdown",
      "metadata": {
        "id": "4nBRtcujGd7W",
        "colab_type": "text"
      },
      "source": [
        "### Model building\n",
        "\n",
        "Our model will have two sections:\n",
        "\n",
        "- Convolutional Layers\n",
        "- Linear layers"
      ]
    },
    {
      "cell_type": "code",
      "metadata": {
        "id": "kxdavTI0GbPK",
        "colab_type": "code",
        "colab": {}
      },
      "source": [
        "class Net(nn.Module):\n",
        "\n",
        "  def __init__(self, num_classes):\n",
        "    super(Net, self).__init__()\n",
        "\n",
        "    # convolutions\n",
        "    self.cnn_layers = nn.Sequential(\n",
        "      nn.Conv2d(1, 32, kernel_size=2),\n",
        "      nn.MaxPool2d(kernel_size=2),\n",
        "      nn.ReLU(inplace=True),\n",
        "\n",
        "      nn.Conv2d(32, 64, kernel_size=3),\n",
        "      nn.Dropout2d(0.2),\n",
        "      nn.ReLU(inplace=True),\n",
        "    )\n",
        "\n",
        "    # fully connected\n",
        "    self.linear = nn.Sequential(\n",
        "      nn.Flatten(),\n",
        "      nn.Linear(64, 64),\n",
        "      nn.ReLU(inplace=True),\n",
        "      nn.Dropout(),\n",
        "      nn.Linear(64, 128),\n",
        "      nn.ReLU(inplace=True),\n",
        "      nn.Linear(128, num_classes),\n",
        "      nn.Softmax(dim=1)\n",
        "    )\n",
        "\n",
        "  def forward(self, x):\n",
        "    x = self.cnn_layers(x)\n",
        "    x = self.linear(x)\n",
        "    return x\n",
        "\n",
        "net = Net(num_classes=num_classes)"
      ],
      "execution_count": 0,
      "outputs": []
    },
    {
      "cell_type": "markdown",
      "metadata": {
        "id": "pVwjUsSkQXW7",
        "colab_type": "text"
      },
      "source": [
        "### Training params\n",
        "\n",
        "We need to define the loss, metrics and optimizers we'll be using during the training.\n",
        "\n",
        "As we have a multi-class problem, we need to use a Categorical Crossentropy Loss. We'll use the accuracy metric and Adam as optimizer."
      ]
    },
    {
      "cell_type": "code",
      "metadata": {
        "id": "IemTezYyIiQ1",
        "colab_type": "code",
        "colab": {}
      },
      "source": [
        "learning_rate = 0.001\n",
        "optimizer = torch.optim.Adam(net.parameters(), lr=learning_rate)\n",
        "criterion = torch.nn.CrossEntropyLoss()"
      ],
      "execution_count": 0,
      "outputs": []
    },
    {
      "cell_type": "markdown",
      "metadata": {
        "id": "nMYOHv8WUduy",
        "colab_type": "text"
      },
      "source": [
        "### Training algorithm\n",
        "\n",
        "First we'll write functions to define the behavior per training and validation epoch."
      ]
    },
    {
      "cell_type": "code",
      "metadata": {
        "id": "VO80XeYmUb-G",
        "colab_type": "code",
        "colab": {}
      },
      "source": [
        "def get_loss_acc(x, y, model, criterion, device):\n",
        "    # forward the input through the net\n",
        "    out = model(x)\n",
        "\n",
        "    # get loss & accuracy\n",
        "    loss = criterion(out, y)\n",
        "    with torch.no_grad():\n",
        "      idx = torch.argmax(out, axis=-1) == y\n",
        "      acc = torch.sum(idx)\n",
        "    \n",
        "    return loss, acc\n",
        "\n",
        "\n",
        "def train_epoch(model, data_loader, criterion, optimizer, device):\n",
        "  model.train()\n",
        "  model.to(device)\n",
        "\n",
        "  # init step loss & accuracty\n",
        "  epoch_loss, epoch_acc = 0., 0.\n",
        "\n",
        "  for x, y in data_loader:\n",
        "    x, y = x.to(device).float(), y.to(device)\n",
        "\n",
        "    loss, acc = get_loss_acc(x, y, model, criterion, device)\n",
        "    \n",
        "    # optimize model\n",
        "    optimizer.zero_grad()\n",
        "    loss.backward()\n",
        "    optimizer.step()\n",
        "\n",
        "    # save loss & acc\n",
        "    epoch_loss += loss.item() * y.size(0)\n",
        "    epoch_acc += acc\n",
        "  \n",
        "  epoch_loss /= len(data_loader.dataset)\n",
        "  epoch_acc /= len(data_loader.dataset)\n",
        "\n",
        "  return epoch_loss, epoch_acc\n",
        "\n",
        "\n",
        "def validate_epoch(model, data_loader, criterion, device):\n",
        "  model.eval()\n",
        "  model.to(device)\n",
        "\n",
        "  epoch_loss, epoch_acc = 0., 0.\n",
        "\n",
        "  with torch.no_grad():\n",
        "    for x, y in data_loader:\n",
        "      x, y = x.to(device).float(), y.to(device)\n",
        "\n",
        "      loss, acc = get_loss_acc(x, y, model, criterion, device)\n",
        "\n",
        "      # save loss & acc\n",
        "      epoch_loss += loss.item() * y.size(0)\n",
        "      epoch_acc += acc\n",
        "  \n",
        "  # get final loss & acc\n",
        "  epoch_loss /= len(data_loader.dataset)\n",
        "  epoch_acc /= len(data_loader.dataset)\n",
        "\n",
        "  return epoch_loss, epoch_acc"
      ],
      "execution_count": 0,
      "outputs": []
    },
    {
      "cell_type": "markdown",
      "metadata": {
        "id": "cPJReVSZaDah",
        "colab_type": "text"
      },
      "source": [
        "### Train!"
      ]
    },
    {
      "cell_type": "code",
      "metadata": {
        "id": "IdEJeoBxaEeR",
        "colab_type": "code",
        "colab": {
          "base_uri": "https://localhost:8080/",
          "height": 83,
          "referenced_widgets": [
            "4ac92fe36e3a4644b4eaa00c91764000",
            "17bb7614a3a848f2bb2841e1bf292eed",
            "bc50dca99b684442bc3726259028fff7",
            "73254a3dc8d34fe3a26c7fac97e758b1",
            "5b662727c5ee403f8584276fb3e77879",
            "5301d2aba0934cbdaf346ebf91e4eb08",
            "f5cb7f0f238c46a5b67c77626efa204f",
            "273f8980c39943f8a226daef86057b01"
          ]
        },
        "outputId": "498d4c70-9843-4025-b3dc-36f58d9a57ca"
      },
      "source": [
        "device = torch.device('cuda' if torch.cuda.is_available() else 'cpu')\n",
        "epochs = 50\n",
        "\n",
        "train_losses, train_accuracies = [], []\n",
        "val_losses, val_accuracies = [], []\n",
        "\n",
        "for e in tqdm(range(epochs)):\n",
        "  train_loss, train_acc = train_epoch(net, train_loader, criterion, optimizer, device)\n",
        "  val_loss, val_acc = validate_epoch(net, val_loader, criterion, device)\n",
        "\n",
        "  train_losses.append(train_loss)\n",
        "  train_accuracies.append(train_acc)\n",
        "  val_losses.append(val_loss)\n",
        "  val_accuracies.append(val_acc)\n",
        "\n",
        "\n",
        "print(f'Final => train_loss {train_losses[-1]:.3f} train_acc {train_accuracies[-1]:.3f} val_loss {val_losses[-1]:.3f} val_acc {val_accuracies[-1]:.3f}')"
      ],
      "execution_count": 14,
      "outputs": [
        {
          "output_type": "display_data",
          "data": {
            "application/vnd.jupyter.widget-view+json": {
              "model_id": "4ac92fe36e3a4644b4eaa00c91764000",
              "version_minor": 0,
              "version_major": 2
            },
            "text/plain": [
              "HBox(children=(IntProgress(value=0, max=50), HTML(value='')))"
            ]
          },
          "metadata": {
            "tags": []
          }
        },
        {
          "output_type": "stream",
          "text": [
            "\n",
            "Final => train_loss 1.487 train_acc 0.978 val_loss 1.492 val_acc 0.968\n"
          ],
          "name": "stdout"
        }
      ]
    },
    {
      "cell_type": "markdown",
      "metadata": {
        "id": "hpP-tMhLaLyI",
        "colab_type": "text"
      },
      "source": [
        "### Let's check the training history"
      ]
    },
    {
      "cell_type": "code",
      "metadata": {
        "id": "ms5BrhGPaNTv",
        "colab_type": "code",
        "colab": {
          "base_uri": "https://localhost:8080/",
          "height": 336
        },
        "outputId": "ed742d56-b7f0-4928-b410-492b40dc9e7b"
      },
      "source": [
        "fig, ax = plt.subplots(1, 2, figsize=(15, 5))\n",
        "\n",
        "ax[0].set_title('Loss')\n",
        "ax[0].plot(train_losses, label='Train')\n",
        "ax[0].plot(val_losses, label='Val')\n",
        "ax[0].legend()\n",
        "\n",
        "ax[1].set_title('Accuracy')\n",
        "ax[1].plot(train_accuracies, label='Train')\n",
        "ax[1].plot(val_accuracies, label='Val')\n",
        "ax[1].legend()\n",
        "\n",
        "plt.show()"
      ],
      "execution_count": 15,
      "outputs": [
        {
          "output_type": "display_data",
          "data": {
            "image/png": "[encoded data removed]",
            "text/plain": [
              "<Figure size 1080x360 with 2 Axes>"
            ]
          },
          "metadata": {
            "tags": [],
            "needs_background": "light"
          }
        }
      ]
    },
    {
      "cell_type": "markdown",
      "metadata": {
        "id": "TD6nbMh6JpyP",
        "colab_type": "text"
      },
      "source": [
        "### Test\n",
        "\n",
        "Now that our model has trained, we need to understand what level of performance we have achieved.\n",
        "\n",
        "In order to do this, we'll predict our test set and get some metrics from it."
      ]
    },
    {
      "cell_type": "code",
      "metadata": {
        "id": "z_bs8vF0JtJZ",
        "colab_type": "code",
        "colab": {
          "base_uri": "https://localhost:8080/",
          "height": 34
        },
        "outputId": "9a144a0e-889e-4a38-d668-bbec71d9a5fd"
      },
      "source": [
        "net.eval()\n",
        "\n",
        "# create the test set\n",
        "\n",
        "X_test = torch.from_numpy(X_val).to(device).reshape(len(X_val), 1, 8, 8).float()\n",
        "y_test = torch.from_numpy(y_val).to(device)\n",
        "\n",
        "# predict the test set\n",
        "\n",
        "y_pred = net(X_test)\n",
        "y_pred = torch.argmax(y_pred, axis=-1)\n",
        "y_pred.shape"
      ],
      "execution_count": 16,
      "outputs": [
        {
          "output_type": "execute_result",
          "data": {
            "text/plain": [
              "torch.Size([594])"
            ]
          },
          "metadata": {
            "tags": []
          },
          "execution_count": 16
        }
      ]
    },
    {
      "cell_type": "code",
      "metadata": {
        "id": "kPd0ulshL7KS",
        "colab_type": "code",
        "colab": {}
      },
      "source": [
        "# convert to numpy\n",
        "\n",
        "y_pred = y_pred.detach().cpu().numpy()\n",
        "y_true = y_test.detach().cpu().numpy()\n",
        "X_test = X_test.detach().cpu().numpy()\n",
        "\n",
        "# create labels and target names\n",
        "labels = range(num_classes)\n",
        "names = [f'Digit {c}' for c in range(num_classes)]"
      ],
      "execution_count": 0,
      "outputs": []
    },
    {
      "cell_type": "markdown",
      "metadata": {
        "id": "L8LtcFP9NNXG",
        "colab_type": "text"
      },
      "source": [
        "### Classification report"
      ]
    },
    {
      "cell_type": "code",
      "metadata": {
        "id": "5yz3XgyQMTkX",
        "colab_type": "code",
        "colab": {
          "base_uri": "https://localhost:8080/",
          "height": 306
        },
        "outputId": "e576626a-e01d-43df-8501-31d26f91b414"
      },
      "source": [
        "# get classification report\n",
        "\n",
        "report = class_report(y_true,\n",
        "                      y_pred,\n",
        "                      labels=labels,\n",
        "                      target_names=names,\n",
        "                      zero_division=False)\n",
        "\n",
        "print(report)"
      ],
      "execution_count": 18,
      "outputs": [
        {
          "output_type": "stream",
          "text": [
            "              precision    recall  f1-score   support\n",
            "\n",
            "     Digit 0       1.00      1.00      1.00        43\n",
            "     Digit 1       0.96      0.97      0.96        66\n",
            "     Digit 2       1.00      0.97      0.99        70\n",
            "     Digit 3       1.00      0.95      0.97        60\n",
            "     Digit 4       1.00      0.96      0.98        57\n",
            "     Digit 5       0.97      0.96      0.96        67\n",
            "     Digit 6       0.94      1.00      0.97        51\n",
            "     Digit 7       0.97      1.00      0.98        61\n",
            "     Digit 8       0.92      0.92      0.92        51\n",
            "     Digit 9       0.91      0.94      0.93        68\n",
            "\n",
            "    accuracy                           0.97       594\n",
            "   macro avg       0.97      0.97      0.97       594\n",
            "weighted avg       0.97      0.97      0.97       594\n",
            "\n"
          ],
          "name": "stdout"
        }
      ]
    },
    {
      "cell_type": "markdown",
      "metadata": {
        "id": "ECCV4NJJNPxZ",
        "colab_type": "text"
      },
      "source": [
        "### Confusion matrix"
      ]
    },
    {
      "cell_type": "code",
      "metadata": {
        "id": "8N4QxgzNM0Kx",
        "colab_type": "code",
        "colab": {
          "base_uri": "https://localhost:8080/",
          "height": 472
        },
        "outputId": "11a9ffac-b1b9-4d15-fdb0-8d762cced4dd"
      },
      "source": [
        "fig, ax = plt.subplots(figsize=(8, 8))\n",
        "cnf_matrix = confusion_matrix(y_true, y_pred, labels=labels)\n",
        "im = ax.imshow(cnf_matrix, interpolation='nearest')\n",
        "plt.colorbar(im)\n",
        "tick_marks = np.arange(num_classes)\n",
        "_ = plt.xticks(tick_marks, names, rotation=90)\n",
        "_ = plt.yticks(tick_marks, names)"
      ],
      "execution_count": 19,
      "outputs": [
        {
          "output_type": "display_data",
          "data": {
            "image/png": "[encoded data removed]",
            "text/plain": [
              "<Figure size 576x576 with 2 Axes>"
            ]
          },
          "metadata": {
            "tags": [],
            "needs_background": "light"
          }
        }
      ]
    }
  ]
}